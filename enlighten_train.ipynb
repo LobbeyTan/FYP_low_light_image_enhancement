{
 "cells": [
  {
   "cell_type": "markdown",
   "metadata": {
    "id": "DxGqRkzvVQDd"
   },
   "source": [
    "### Only Run on Google Colab"
   ]
  },
  {
   "cell_type": "code",
   "execution_count": null,
   "metadata": {
    "id": "aNlTlTyMVJze"
   },
   "outputs": [],
   "source": [
    "from google.colab import drive\n",
    "drive.mount('/content/drive')"
   ]
  },
  {
   "cell_type": "code",
   "execution_count": null,
   "metadata": {
    "id": "AtiVqH69Vdyy"
   },
   "outputs": [],
   "source": [
    "%cd /content/drive/MyDrive/github/FYP_low_light_image_enhancement/"
   ]
  },
  {
   "cell_type": "markdown",
   "metadata": {
    "id": "MYeJ13s-V08m"
   },
   "source": [
    "# Low Light Image Enhancement"
   ]
  },
  {
   "cell_type": "markdown",
   "metadata": {
    "id": "BAW01e-jDpXn"
   },
   "source": [
    "### Import libraries"
   ]
  },
  {
   "cell_type": "code",
   "execution_count": null,
   "metadata": {
    "id": "o6WjKpXCDpXn"
   },
   "outputs": [],
   "source": [
    "from data.custom_image_dataset import CustomImageDataset\n",
    "from models.enlighten import EnlightenGAN\n",
    "from configs.option import Option\n",
    "from torch.utils.data import DataLoader\n",
    "\n",
    "import torch\n",
    "import time"
   ]
  },
  {
   "cell_type": "code",
   "execution_count": null,
   "metadata": {
    "id": "DWpEln6eDpXo"
   },
   "outputs": [],
   "source": [
    "device = torch.device(\"cuda\" if torch.cuda.is_available() else \"cpu\")"
   ]
  },
  {
   "cell_type": "markdown",
   "metadata": {
    "id": "SDJDOPv0DpXo"
   },
   "source": [
    "### Hyperparameters"
   ]
  },
  {
   "cell_type": "code",
   "execution_count": null,
   "metadata": {
    "id": "uJmjDvALDpXp"
   },
   "outputs": [],
   "source": [
    "img_dir = \"./datasets/light_enhancement\"\n",
    "checkpoint_dir = \"./checkpoints/enlightenGAN/\"\n",
    "batch_size = 32\n",
    "batch_shuffle = True\n",
    "\n",
    "lr = 0.0001\n",
    "\n",
    "n_epochs = 100\n",
    "print_freq = 1000\n",
    "save_freq = 15000"
   ]
  },
  {
   "cell_type": "markdown",
   "metadata": {
    "id": "ilbSfL96DpXp"
   },
   "source": [
    "### Load Dataset"
   ]
  },
  {
   "cell_type": "code",
   "execution_count": null,
   "metadata": {
    "id": "B2RMeyJ7DpXq"
   },
   "outputs": [],
   "source": [
    "# Load dataset\n",
    "dataset = CustomImageDataset(\n",
    "    img_dir=img_dir,\n",
    "    opt=Option(phase=\"train\")\n",
    ")"
   ]
  },
  {
   "cell_type": "code",
   "execution_count": null,
   "metadata": {
    "id": "tcaEzCVyDpXq"
   },
   "outputs": [],
   "source": [
    "# Load into dataloader\n",
    "dataloader = DataLoader(dataset, batch_size=batch_size, shuffle=batch_shuffle)"
   ]
  },
  {
   "cell_type": "code",
   "execution_count": null,
   "metadata": {
    "id": "jd11bVZuDpXq"
   },
   "outputs": [],
   "source": [
    "dataloader_size = len(dataloader)\n",
    "\n",
    "print(\"The number of training images = %d\" % dataloader_size)"
   ]
  },
  {
   "cell_type": "markdown",
   "metadata": {
    "id": "AytoHAPJDpXq"
   },
   "source": [
    "### Load Model"
   ]
  },
  {
   "cell_type": "code",
   "execution_count": null,
   "metadata": {
    "id": "oW4nRMpIDpXr"
   },
   "outputs": [],
   "source": [
    "model = EnlightenGAN(use_src=True, lr=lr, device=device)"
   ]
  },
  {
   "cell_type": "markdown",
   "metadata": {
    "id": "znQUs7pIDpXr"
   },
   "source": [
    "### Start Training"
   ]
  },
  {
   "cell_type": "code",
   "execution_count": null,
   "metadata": {
    "id": "4-tzIRs6DpXr"
   },
   "outputs": [],
   "source": [
    "total_iterations = 0\n",
    "train_start_time = time.time()\n",
    "\n",
    "n_print = 1\n",
    "n_save = 1\n",
    "\n",
    "for epoch in range(n_epochs):\n",
    "    start_time = time.time()\n",
    "\n",
    "    epoch_iter = 0\n",
    "\n",
    "    for i, data in enumerate(dataloader):\n",
    "        model.set_input(data)\n",
    "        model.optimize_parameters()\n",
    "\n",
    "        total_iterations += len(data['img_A'])\n",
    "        epoch_iter += len(data['img_A'])\n",
    "\n",
    "        if total_iterations > (print_freq * n_print):\n",
    "            time_taken = time.time() - train_start_time\n",
    "\n",
    "            print(\"--------------------E%d-----------------------\" % (epoch+1))\n",
    "            print(\"Current Iteration: %05d | Epoch Iteration: %05d\" % (print_freq * n_print, epoch_iter))\n",
    "            print(\"Current Time Taken: %07ds | Current Epoch Running Time: %07ds\" % (time_taken, time.time() - start_time))\n",
    "            print(\"SPA Loss: %.7f | Color Loss: %.7f\" % (model.loss_spa, model.color_loss))\n",
    "            print(\"RAGAN Loss for Global D: %.7f | Local D: %.7f\" % (model.loss_D, model.loss_patch_D))\n",
    "            print(\"RAGAN Loss for Global G: %.7f | Local G: %.7f\" % (model.loss_G, model.loss_G_patch))\n",
    "            print(\"SFP Loss for Global G  : %.7f | Local G: %.7f\" % (model.loss_G_SFP, model.loss_G_SFP_patch))\n",
    "            print(f\"Total generator loss: {model.total_loss_G}\")\n",
    "            n_print += 1\n",
    "\n",
    "        if total_iterations > (save_freq * n_save):\n",
    "            print(\"Saving models...\")\n",
    "            model.save_model(checkpoint_dir, save_freq * n_save)\n",
    "            n_save += 1\n",
    "            \n",
    "\n",
    "print(f\"Total time taken: {time.time() - train_start_time}\")\n",
    "print(\"Saving trained model ...\")\n",
    "model.save_model(checkpoint_dir, epoch=\"trained\")\n"
   ]
  },
  {
   "cell_type": "code",
   "execution_count": null,
   "metadata": {
    "id": "739UIccYDpXr"
   },
   "outputs": [],
   "source": []
  }
 ],
 "metadata": {
  "interpreter": {
   "hash": "9cf3140a95018356adda0b08a8d866947d94191709b9d93ba5e939514f97a387"
  },
  "kernelspec": {
   "display_name": "Python 3.10.2 ('pytorch_env')",
   "language": "python",
   "name": "python3"
  },
  "language_info": {
   "codemirror_mode": {
    "name": "ipython",
    "version": 3
   },
   "file_extension": ".py",
   "mimetype": "text/x-python",
   "name": "python",
   "nbconvert_exporter": "python",
   "pygments_lexer": "ipython3",
   "version": "3.10.2"
  },
  "orig_nbformat": 4
 },
 "nbformat": 4,
 "nbformat_minor": 2
}
