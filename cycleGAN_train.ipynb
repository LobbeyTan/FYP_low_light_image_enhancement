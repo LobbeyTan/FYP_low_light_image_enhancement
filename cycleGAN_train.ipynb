{
  "cells": [
    {
      "cell_type": "markdown",
      "metadata": {
        "id": "DxGqRkzvVQDd"
      },
      "source": [
        "### Only Run on Google Colab"
      ]
    },
    {
      "cell_type": "code",
      "execution_count": null,
      "metadata": {
        "id": "aNlTlTyMVJze"
      },
      "outputs": [],
      "source": [
        "from google.colab import drive\n",
        "drive.mount('/content/drive')"
      ]
    },
    {
      "cell_type": "code",
      "execution_count": null,
      "metadata": {
        "id": "AtiVqH69Vdyy"
      },
      "outputs": [],
      "source": [
        "%cd /content/drive/MyDrive/github/FYP_low_light_image_enhancement/"
      ]
    },
    {
      "cell_type": "code",
      "execution_count": null,
      "metadata": {
        "id": "gcTJWthGEgeW"
      },
      "outputs": [],
      "source": [
        "!mkdir datasets"
      ]
    },
    {
      "cell_type": "code",
      "execution_count": null,
      "metadata": {
        "id": "HrC9ffWyVwJb"
      },
      "outputs": [],
      "source": [
        "%ls"
      ]
    },
    {
      "cell_type": "code",
      "execution_count": null,
      "metadata": {
        "id": "89ePhiOzDse-"
      },
      "outputs": [],
      "source": [
        "!wget http://efrosgans.eecs.berkeley.edu/cyclegan/datasets/summer2winter_yosemite.zip"
      ]
    },
    {
      "cell_type": "code",
      "execution_count": null,
      "metadata": {
        "id": "zZ7kGOjrEE4A"
      },
      "outputs": [],
      "source": [
        "!unzip summer2winter_yosemite.zip -d \"./datasets\""
      ]
    },
    {
      "cell_type": "code",
      "execution_count": null,
      "metadata": {
        "id": "JgE2COSRFbt0"
      },
      "outputs": [],
      "source": [
        "!rm \"summer2winter_yosemite.zip\""
      ]
    },
    {
      "cell_type": "markdown",
      "metadata": {
        "id": "MYeJ13s-V08m"
      },
      "source": [
        "# Domain Transfer"
      ]
    },
    {
      "cell_type": "markdown",
      "metadata": {
        "id": "BAW01e-jDpXn"
      },
      "source": [
        "### Import libraries"
      ]
    },
    {
      "cell_type": "code",
      "execution_count": null,
      "metadata": {
        "id": "o6WjKpXCDpXn"
      },
      "outputs": [],
      "source": [
        "from data.custom_image_dataset import CustomImageDataset\n",
        "from models.cycleGAN import CycleGANModel\n",
        "from configs.option import Option\n",
        "from torch.utils.data import DataLoader\n",
        "\n",
        "import torch\n",
        "import time"
      ]
    },
    {
      "cell_type": "code",
      "execution_count": null,
      "metadata": {
        "id": "DWpEln6eDpXo"
      },
      "outputs": [],
      "source": [
        "device = torch.device(\"cuda\" if torch.cuda.is_available() else \"cpu\")"
      ]
    },
    {
      "cell_type": "markdown",
      "metadata": {
        "id": "SDJDOPv0DpXo"
      },
      "source": [
        "### Hyperparameters"
      ]
    },
    {
      "cell_type": "code",
      "execution_count": null,
      "metadata": {
        "id": "uJmjDvALDpXp"
      },
      "outputs": [],
      "source": [
        "img_dir = \"./datasets/summer2winter_yosemite\"\n",
        "batch_size = 2\n",
        "batch_shuffle = True\n",
        "\n",
        "lr = 0.0001\n",
        "lambda_A = 10\n",
        "lambda_B = 10\n",
        "lambda_idt = 0.5\n",
        "\n",
        "n_epochs = 100\n",
        "print_freq = 1000\n",
        "save_freq = 15000"
      ]
    },
    {
      "cell_type": "markdown",
      "metadata": {
        "id": "ilbSfL96DpXp"
      },
      "source": [
        "### Load Dataset"
      ]
    },
    {
      "cell_type": "code",
      "execution_count": null,
      "metadata": {
        "id": "B2RMeyJ7DpXq"
      },
      "outputs": [],
      "source": [
        "# Load dataset\n",
        "dataset = CustomImageDataset(\n",
        "    img_dir=img_dir,\n",
        "    opt=Option(phase=\"train\")\n",
        ")"
      ]
    },
    {
      "cell_type": "code",
      "execution_count": null,
      "metadata": {
        "id": "tcaEzCVyDpXq"
      },
      "outputs": [],
      "source": [
        "# Load into dataloader\n",
        "dataloader = DataLoader(dataset, batch_size=batch_size, shuffle=batch_shuffle)"
      ]
    },
    {
      "cell_type": "code",
      "execution_count": null,
      "metadata": {
        "id": "jd11bVZuDpXq"
      },
      "outputs": [],
      "source": [
        "dataloader_size = len(dataloader)\n",
        "\n",
        "print(\"The number of training images = %d\" % dataloader_size)"
      ]
    },
    {
      "cell_type": "markdown",
      "metadata": {
        "id": "AytoHAPJDpXq"
      },
      "source": [
        "### Load Model"
      ]
    },
    {
      "cell_type": "code",
      "execution_count": null,
      "metadata": {
        "id": "oW4nRMpIDpXr"
      },
      "outputs": [],
      "source": [
        "model = CycleGANModel(lr=lr, lamda_A=lambda_A, lamda_B=lambda_B, lambda_idt=lambda_idt,device=device)"
      ]
    },
    {
      "cell_type": "markdown",
      "metadata": {
        "id": "znQUs7pIDpXr"
      },
      "source": [
        "### Start Training"
      ]
    },
    {
      "cell_type": "code",
      "execution_count": null,
      "metadata": {
        "id": "4-tzIRs6DpXr"
      },
      "outputs": [],
      "source": [
        "total_iterations = 0\n",
        "train_start_time = time.time()\n",
        "\n",
        "for epoch in range(n_epochs):\n",
        "    start_time = time.time()\n",
        "\n",
        "    epoch_iter = 0\n",
        "\n",
        "    for i, data in enumerate(dataloader):\n",
        "        model.optimize_parameters(data['img_A'], data['img_B'])\n",
        "\n",
        "        total_iterations += len(data['img_A'])\n",
        "        epoch_iter += len(data['img_A'])\n",
        "\n",
        "        iter_start_time = time.time()\n",
        "\n",
        "        if total_iterations % print_freq == 0:\n",
        "            time_taken = iter_start_time - train_start_time\n",
        "\n",
        "            print(\"--------------------E%d-----------------------\" % epoch)\n",
        "            print(\"Current Iteration: %05d | Epoch Iteration: %05d\" % (total_iterations, epoch_iter))\n",
        "            print(\"Current Time Taken: %07ds | Current Epoch Running Time: %07ds\" % (time_taken, iter_start_time - start_time))\n",
        "            print(\"G(x) MSE Loss:\", model.loss_G_X.item(), \"| F(y) MSE Loss:\", model.loss_F_Y.item())\n",
        "            print(\"D_Y  MSE Loss:\", model.loss_D_Y.item(), \"| D_X  MSE Loss:\", model.loss_D_X.item())\n",
        "            print(\"X Cyc L1 Loss:\", model.loss_cycle_X.item(), \"| Y Cyc L1 Loss:\", model.loss_cycle_Y.item())\n",
        "            print(\"X Idt L1 Loss:\", model.loss_idt_X.item(), \"Y Idt L1 Loss:\", model.loss_idt_Y.item())\n",
        "            print(\"Total Generators Loss:\", model.loss_G.item())\n",
        "\n",
        "        if total_iterations % save_freq == 0:\n",
        "            print(\"Saving models...\")\n",
        "            model.save_model(\"./checkpoints\", total_iterations)\n",
        "            \n",
        "\n",
        "print(f\"Total time taken: {time.time() - train_start_time}\")\n",
        "print(\"Saving trained model ...\")\n",
        "model.save_model(\"./checkpoints\", epoch=\"trained\")\n"
      ]
    },
    {
      "cell_type": "code",
      "execution_count": null,
      "metadata": {
        "id": "739UIccYDpXr"
      },
      "outputs": [],
      "source": []
    }
  ],
  "metadata": {
    "colab": {
      "name": "notebook.ipynb",
      "provenance": []
    },
    "kernelspec": {
      "display_name": "Python 3.10.8 ('venv': venv)",
      "language": "python",
      "name": "python3"
    },
    "language_info": {
      "codemirror_mode": {
        "name": "ipython",
        "version": 3
      },
      "file_extension": ".py",
      "mimetype": "text/x-python",
      "name": "python",
      "nbconvert_exporter": "python",
      "pygments_lexer": "ipython3",
      "version": "3.10.8"
    },
    "orig_nbformat": 4,
    "vscode": {
      "interpreter": {
        "hash": "d9b618401b2c0edb6095b3a6b1bd3225b1d93920d52d2d6324020ed64f706650"
      }
    }
  },
  "nbformat": 4,
  "nbformat_minor": 0
}
