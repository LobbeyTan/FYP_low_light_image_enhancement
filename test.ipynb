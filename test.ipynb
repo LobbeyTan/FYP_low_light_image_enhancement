{
 "cells": [
  {
   "cell_type": "code",
   "execution_count": null,
   "metadata": {},
   "outputs": [],
   "source": [
    "import torch\n",
    "import matplotlib.pyplot as plt\n",
    "import matplotlib.image as mpimg\n",
    "from torch.utils.data import DataLoader\n",
    "from models.cycleGAN import CycleGANModel\n",
    "from models.enlighten import EnlightenGAN\n",
    "from data.custom_image_dataset import CustomImageDataset\n",
    "from configs.option import Option"
   ]
  },
  {
   "cell_type": "code",
   "execution_count": null,
   "metadata": {},
   "outputs": [],
   "source": [
    "device = torch.device(\"cuda\" if torch.cuda.is_available() else \"cpu\")"
   ]
  },
  {
   "cell_type": "code",
   "execution_count": null,
   "metadata": {},
   "outputs": [],
   "source": [
    "\n",
    "model_1 = EnlightenGAN(device=device)\n",
    "model_2 = EnlightenGAN(device=device)\n",
    "\n",
    "model_1.load_model(\"./checkpoints/enlightenGAN/training_4/iter_45000\")\n",
    "model_2.load_model(\"./checkpoints/enlightenGAN/training_3/iter_trained\")"
   ]
  },
  {
   "cell_type": "code",
   "execution_count": null,
   "metadata": {},
   "outputs": [],
   "source": [
    "dataset = CustomImageDataset(\n",
    "    img_dir=\"./datasets/light_enhancement\",\n",
    "    opt=Option(phase=\"test\")\n",
    ")\n",
    "\n",
    "batch_size = 3\n",
    "dataloader = DataLoader(dataset, batch_size=batch_size, shuffle=True)"
   ]
  },
  {
   "cell_type": "code",
   "execution_count": null,
   "metadata": {},
   "outputs": [],
   "source": [
    "data = next(iter(dataloader))"
   ]
  },
  {
   "cell_type": "code",
   "execution_count": null,
   "metadata": {},
   "outputs": [],
   "source": [
    "def showImage(paths, row=1, col=1, figsize=(10,10)):\n",
    "    plt.subplots(row, col, figsize=figsize)\n",
    "\n",
    "    for i in range(row):\n",
    "        for j in range(col):\n",
    "            pos = col * i + j\n",
    "            idx = pos % len(paths)\n",
    "            path, name = paths[idx]\n",
    "            \n",
    "            plt.subplot(row, col, pos+1)\n",
    "            plt.imshow(mpimg.imread(path))\n",
    "            plt.title(name, color=\"white\")\n",
    "            plt.axis('off')\n",
    "\n",
    "    plt.show()\n",
    "    print(\"-\" * 8 * figsize[0])"
   ]
  },
  {
   "cell_type": "code",
   "execution_count": null,
   "metadata": {},
   "outputs": [],
   "source": [
    "for i in range(batch_size):\n",
    "    showImage([(data[\"path_A\"][i], \"Image X\"), (data[\"path_B\"][i], \"Image Y\")], row=1, col=2)"
   ]
  },
  {
   "cell_type": "code",
   "execution_count": null,
   "metadata": {},
   "outputs": [],
   "source": [
    "model_1.set_input(data)\n",
    "paths = model_1.test(save_dir=\"./results/enlightenGAN/test_1/\")"
   ]
  },
  {
   "cell_type": "code",
   "execution_count": null,
   "metadata": {},
   "outputs": [],
   "source": [
    "n_images = 5\n",
    "\n",
    "for i in range(batch_size):\n",
    "    showImage(paths[i * n_images: (i+1) * n_images], 1, 5, figsize=(15,10))"
   ]
  },
  {
   "cell_type": "code",
   "execution_count": null,
   "metadata": {},
   "outputs": [],
   "source": [
    "model_2.set_input(data)\n",
    "paths = model_2.test(save_dir=\"./results/enlightenGAN/test_2\")"
   ]
  },
  {
   "cell_type": "code",
   "execution_count": null,
   "metadata": {},
   "outputs": [],
   "source": [
    "n_images = 5\n",
    "\n",
    "for i in range(batch_size):\n",
    "    showImage(paths[i * n_images: (i+1) * n_images], 1, 5, figsize=(15,10))"
   ]
  }
 ],
 "metadata": {
  "interpreter": {
   "hash": "ab9e631e7825a1b2d9c2484f7db982b09f15e2c485b8925796892dde75e074d0"
  },
  "kernelspec": {
   "display_name": "Python 3.10.2 ('pytorch_env')",
   "language": "python",
   "name": "python3"
  },
  "language_info": {
   "codemirror_mode": {
    "name": "ipython",
    "version": 3
   },
   "file_extension": ".py",
   "mimetype": "text/x-python",
   "name": "python",
   "nbconvert_exporter": "python",
   "pygments_lexer": "ipython3",
   "version": "3.10.2"
  },
  "orig_nbformat": 4
 },
 "nbformat": 4,
 "nbformat_minor": 2
}
