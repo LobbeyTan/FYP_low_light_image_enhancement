{
 "cells": [
  {
   "cell_type": "code",
   "execution_count": 1,
   "metadata": {},
   "outputs": [],
   "source": [
    "import os"
   ]
  },
  {
   "cell_type": "code",
   "execution_count": 2,
   "metadata": {},
   "outputs": [],
   "source": [
    "mapping = {\n",
    "    \"Bicycle\": [1],\n",
    "    \"Boat\": [8],\n",
    "    \"Bottle\": [39],\n",
    "    \"Bus\": [5, 7],\n",
    "    \"Car\": [2],\n",
    "    \"Cat\": [15],\n",
    "    \"Chair\": [13, 56],\n",
    "    \"Cup\": [40, 41],\n",
    "    \"Dog\": [16],\n",
    "    \"Motorbike\": [3],\n",
    "    \"People\": [0],\n",
    "    \"Table\": [60],\n",
    "}"
   ]
  },
  {
   "cell_type": "code",
   "execution_count": 3,
   "metadata": {},
   "outputs": [],
   "source": [
    "precisions = []\n",
    "recalls = []\n",
    "ious = []"
   ]
  },
  {
   "cell_type": "code",
   "execution_count": 4,
   "metadata": {},
   "outputs": [],
   "source": [
    "import math\n",
    "\n",
    "def xywh_to_xyxy(x, y, w, h):\n",
    "    x1 = x - (w / 2)\n",
    "    y1 = y - (h / 2)\n",
    "    \n",
    "    x2 = x + (w / 2)\n",
    "    y2 = y + (h / 2)\n",
    "    \n",
    "    return (int(x1), int(y1)), (int(x2), int(y2))\n",
    "\n",
    "\n",
    "def xyxy_to_xywh(c1, c2):\n",
    "    w = c2[0] - c1[0]\n",
    "    h = c2[1] - c1[1]\n",
    "    x = c2[0] + c1[0] / 2\n",
    "    y = c2[1] + c1[1] / 2\n",
    "\n",
    "    return x, y, w, h\n",
    "\n",
    "def hasOverlap(c1, c2, c3, c4):\n",
    "    x = 0\n",
    "    y = 1\n",
    "    \n",
    "    intercept_x = (c1[x] < c3[x] and c3[x] < c2[x]) or (c1[x] < c4[x] and c4[x] < c2[x])\n",
    "    intercept_y = (c1[y] < c3[y] and c3[y] < c2[y]) or (c1[y] < c4[y] and c4[y] < c2[y])\n",
    "\n",
    "def calculateIoU(box1, box2):\n",
    "    x = 0\n",
    "    y = 1\n",
    "    \n",
    "    c1, c2 = xywh_to_xyxy(*box1)\n",
    "    c3, c4 = xywh_to_xyxy(*box2)\n",
    "    \n",
    "    area1 = (c2[x] - c1[x]) * (c2[y] - c1[y])\n",
    "    area2 = (c4[x] - c3[x]) * (c4[y] - c3[y])\n",
    "    \n",
    "    x_dist = min(c2[x], c4[x]) - max(c1[x], c3[x])\n",
    "    y_dist = min(c2[y], c4[y]) - max(c1[y], c3[y])\n",
    "    \n",
    "    areaOverlap = 0\n",
    "    \n",
    "    if x_dist > 0 and y_dist > 0: \n",
    "        areaOverlap = x_dist * y_dist\n",
    "    \n",
    "    # print(f\"c1: {c1} | c2: {c2} | c3: {c3} | c4: {c4} |\")\n",
    "    # print(f\"Area1: {area1} | Area2: {area2} | Area Overlap: {areaOverlap}\")\n",
    "    \n",
    "    return areaOverlap / (area1 + area2 - areaOverlap)\n",
    "    "
   ]
  },
  {
   "cell_type": "code",
   "execution_count": 5,
   "metadata": {},
   "outputs": [],
   "source": [
    "iou_threshold = 0.75\n",
    "target = \"ZeroDCE\"\n",
    "source_path = \"./datasets/test/annotation/exp0/\"\n",
    "sample_path = f\"./datasets/test/annotation/{target}/\"\n",
    "\n",
    "output = open(f'./datasets/test/annotation/Results/{target}-{iou_threshold}.txt', 'w')\n",
    "\n",
    "for root, _, files in os.walk(os.path.join(source_path, 'labels')):\n",
    "    \n",
    "    for file in files:\n",
    "        target_cxywh = []\n",
    "        sample_cxywh = []\n",
    "        \n",
    "        TP = 0\n",
    "        OU = 0\n",
    "                \n",
    "        try:\n",
    "            with open(os.path.join(source_path, 'labels', file)) as annotation:\n",
    "                target_cxywh = [[mapping[line.split()[0]]] + list(map(float, line.split()[1:5])) for line in annotation.readlines()]\n",
    "                \n",
    "            with open(os.path.join(sample_path, 'labels', file)) as annotation:\n",
    "                sample_cxywh = [[int(line.split()[0])] + list(map(lambda x : float(x) * 256, line.split()[1:5])) for line in annotation.readlines()]\n",
    "                \n",
    "            if len(target_cxywh)  == 0 or len(sample_cxywh) == 0: continue\n",
    "        except:\n",
    "            continue\n",
    "        \n",
    "        for target in target_cxywh:\n",
    "            \n",
    "            for sample in sample_cxywh:\n",
    "                # Finding the IOU\n",
    "                iou = calculateIoU(target[1:5], sample[1:5])\n",
    "                \n",
    "                # print(f\"Target: {target[0]} | Sample: {sample[0]} | IoU: {iou}\")\n",
    "                if (iou > iou_threshold):\n",
    "                    # Make correct prediction\n",
    "                    TP += 1\n",
    "                    OU += iou\n",
    "                    break\n",
    "                \n",
    "        precision = TP / len(sample_cxywh)\n",
    "        recall = TP / len(target_cxywh)\n",
    "        \n",
    "        output.write(\"File: {} | TP: {} | Total Positives: {:02d} | Total TP: {:02d} | Precision: {:.6f} | Recall: {:.6f}\\n\".format(file, TP, len(sample_cxywh), len(target_cxywh), precision, recall))\n",
    "        precisions.append(precision)\n",
    "        recalls.append(recall)\n",
    "        if (TP != 0): ious.append(OU / TP)\n",
    "        \n",
    "output.close()\n",
    "        "
   ]
  },
  {
   "cell_type": "code",
   "execution_count": 6,
   "metadata": {},
   "outputs": [
    {
     "name": "stdout",
     "output_type": "stream",
     "text": [
      "mAP: 0.403282\n",
      "Recall: 0.515481\n",
      "IoU: 0.865735\n"
     ]
    }
   ],
   "source": [
    "print(\"mAP: %.6f\" % (sum(precisions) / len(precisions)))\n",
    "print(\"Recall: %.6f\"  % (sum(recalls) / len(recalls)))\n",
    "print(\"IoU: %.6f\"  % (sum(ious) / len(ious)))"
   ]
  },
  {
   "cell_type": "code",
   "execution_count": null,
   "metadata": {},
   "outputs": [],
   "source": []
  }
 ],
 "metadata": {
  "kernelspec": {
   "display_name": "venv",
   "language": "python",
   "name": "python3"
  },
  "language_info": {
   "codemirror_mode": {
    "name": "ipython",
    "version": 3
   },
   "file_extension": ".py",
   "mimetype": "text/x-python",
   "name": "python",
   "nbconvert_exporter": "python",
   "pygments_lexer": "ipython3",
   "version": "3.10.8"
  },
  "orig_nbformat": 4,
  "vscode": {
   "interpreter": {
    "hash": "d9b618401b2c0edb6095b3a6b1bd3225b1d93920d52d2d6324020ed64f706650"
   }
  }
 },
 "nbformat": 4,
 "nbformat_minor": 2
}
